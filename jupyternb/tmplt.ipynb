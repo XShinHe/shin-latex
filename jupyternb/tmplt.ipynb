{
 "cells": [
  {
   "cell_type": "markdown",
   "metadata": {},
   "source": [
    "<html>\n",
    "    \n",
    "<!-- copyright on right -->\n",
    "<h4 style=\"text-align:right\"> \n",
    "College of Chemistry and Molecular Engineering,&nbsp; Peking University\n",
    "</h4>\n",
    "\n",
    "<!-- horizontal line -->\n",
    "<hr>\n",
    "\n",
    "<h1 style=\"text-align:center\"><font face=\"Times Roman\"> \n",
    "Notes for theoretical and computational chemistry [1]<br>\n",
    "my first note   \n",
    "</font></h1>\n",
    "\n",
    "<br>\n",
    "\n",
    "<!-- Author info -->\n",
    "<h2 style=\"text-align:center\">\n",
    "<font face=\"Times Roman\">\n",
    "Author: &nbsp;Xin He\n",
    "</font> </h2>\n",
    "\n",
    "<!-- date -->\n",
    "<h2 style=\"text-align:center\">\n",
    "<font face=\"Times Roman\">\n",
    "2019-09-07\n",
    "</font> </h2>\n",
    "\n",
    "<hr>\n",
    "</html>"
   ]
  },
  {
   "cell_type": "markdown",
   "metadata": {},
   "source": [
    "# Subtitle 1  \n",
    "\n",
    "Hello world!\n",
    "\n",
    "$$\n",
    "\\begin{equation}\n",
    "a^2 + b^2 = c^2\n",
    "\\end{equation}\n",
    "\\tag{1}\n",
    "$$"
   ]
  }
 ],
 "metadata": {
  "kernelspec": {
   "display_name": "Python 3",
   "language": "python",
   "name": "python3"
  },
  "language_info": {
   "codemirror_mode": {
    "name": "ipython",
    "version": 3
   },
   "file_extension": ".py",
   "mimetype": "text/x-python",
   "name": "python",
   "nbconvert_exporter": "python",
   "pygments_lexer": "ipython3",
   "version": "3.5.2"
  }
 },
 "nbformat": 4,
 "nbformat_minor": 2
}
